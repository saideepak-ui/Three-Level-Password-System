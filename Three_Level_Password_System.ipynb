{
  "nbformat": 4,
  "nbformat_minor": 0,
  "metadata": {
    "colab": {
      "provenance": []
    },
    "kernelspec": {
      "name": "python3",
      "display_name": "Python 3"
    },
    "language_info": {
      "name": "python"
    }
  },
  "cells": [
    {
      "cell_type": "code",
      "execution_count": 2,
      "metadata": {
        "colab": {
          "base_uri": "https://localhost:8080/",
          "height": 529
        },
        "id": "q2xxu5V9Naqm",
        "outputId": "c6034ad7-4638-490c-b988-bc4e32cb2bfc"
      },
      "outputs": [
        {
          "name": "stdout",
          "output_type": "stream",
          "text": [
            "Welcome to the Three-Level Password System\n",
            "\n",
            "Enter your textual password: deepak@123\n",
            "Textual authentication successful.\n",
            "\n",
            "Select the images in the correct sequence:\n",
            "1. [Star]\n",
            "2. [Moon]\n",
            "3. [Tree]\n",
            "4. [Sun]\n",
            "5. [Cloud]\n",
            "Enter the sequence of numbers: 2, 4, 1\n"
          ]
        },
        {
          "output_type": "error",
          "ename": "ValueError",
          "evalue": "invalid literal for int() with base 10: '2,'",
          "traceback": [
            "\u001b[0;31m---------------------------------------------------------------------------\u001b[0m",
            "\u001b[0;31mValueError\u001b[0m                                Traceback (most recent call last)",
            "\u001b[0;32m<ipython-input-2-944a483cacb5>\u001b[0m in \u001b[0;36m<cell line: 0>\u001b[0;34m()\u001b[0m\n\u001b[1;32m     52\u001b[0m \u001b[0;34m\u001b[0m\u001b[0m\n\u001b[1;32m     53\u001b[0m \u001b[0;32mif\u001b[0m \u001b[0m__name__\u001b[0m \u001b[0;34m==\u001b[0m \u001b[0;34m\"__main__\"\u001b[0m\u001b[0;34m:\u001b[0m\u001b[0;34m\u001b[0m\u001b[0;34m\u001b[0m\u001b[0m\n\u001b[0;32m---> 54\u001b[0;31m     \u001b[0mmain\u001b[0m\u001b[0;34m(\u001b[0m\u001b[0;34m)\u001b[0m\u001b[0;34m\u001b[0m\u001b[0;34m\u001b[0m\u001b[0m\n\u001b[0m",
            "\u001b[0;32m<ipython-input-2-944a483cacb5>\u001b[0m in \u001b[0;36mmain\u001b[0;34m()\u001b[0m\n\u001b[1;32m     38\u001b[0m         \u001b[0mprint\u001b[0m\u001b[0;34m(\u001b[0m\u001b[0;34m\"Textual authentication successful.\\n\"\u001b[0m\u001b[0;34m)\u001b[0m\u001b[0;34m\u001b[0m\u001b[0;34m\u001b[0m\u001b[0m\n\u001b[1;32m     39\u001b[0m \u001b[0;34m\u001b[0m\u001b[0m\n\u001b[0;32m---> 40\u001b[0;31m         \u001b[0;32mif\u001b[0m \u001b[0mgraphical_authentication\u001b[0m\u001b[0;34m(\u001b[0m\u001b[0;34m)\u001b[0m\u001b[0;34m:\u001b[0m\u001b[0;34m\u001b[0m\u001b[0;34m\u001b[0m\u001b[0m\n\u001b[0m\u001b[1;32m     41\u001b[0m             \u001b[0mprint\u001b[0m\u001b[0;34m(\u001b[0m\u001b[0;34m\"Graphical authentication successful.\\n\"\u001b[0m\u001b[0;34m)\u001b[0m\u001b[0;34m\u001b[0m\u001b[0;34m\u001b[0m\u001b[0m\n\u001b[1;32m     42\u001b[0m \u001b[0;34m\u001b[0m\u001b[0m\n",
            "\u001b[0;32m<ipython-input-2-944a483cacb5>\u001b[0m in \u001b[0;36mgraphical_authentication\u001b[0;34m()\u001b[0m\n\u001b[1;32m     19\u001b[0m         \u001b[0mprint\u001b[0m\u001b[0;34m(\u001b[0m\u001b[0;34mf\"{i+1}. {img}\"\u001b[0m\u001b[0;34m)\u001b[0m\u001b[0;34m\u001b[0m\u001b[0;34m\u001b[0m\u001b[0m\n\u001b[1;32m     20\u001b[0m \u001b[0;34m\u001b[0m\u001b[0m\n\u001b[0;32m---> 21\u001b[0;31m     \u001b[0muser_sequence\u001b[0m \u001b[0;34m=\u001b[0m \u001b[0mlist\u001b[0m\u001b[0;34m(\u001b[0m\u001b[0mmap\u001b[0m\u001b[0;34m(\u001b[0m\u001b[0mint\u001b[0m\u001b[0;34m,\u001b[0m \u001b[0minput\u001b[0m\u001b[0;34m(\u001b[0m\u001b[0;34m\"Enter the sequence of numbers: \"\u001b[0m\u001b[0;34m)\u001b[0m\u001b[0;34m.\u001b[0m\u001b[0msplit\u001b[0m\u001b[0;34m(\u001b[0m\u001b[0;34m)\u001b[0m\u001b[0;34m)\u001b[0m\u001b[0;34m)\u001b[0m\u001b[0;34m\u001b[0m\u001b[0;34m\u001b[0m\u001b[0m\n\u001b[0m\u001b[1;32m     22\u001b[0m     \u001b[0;32mreturn\u001b[0m \u001b[0muser_sequence\u001b[0m \u001b[0;34m==\u001b[0m \u001b[0mcorrect_sequence\u001b[0m\u001b[0;34m\u001b[0m\u001b[0;34m\u001b[0m\u001b[0m\n\u001b[1;32m     23\u001b[0m \u001b[0;34m\u001b[0m\u001b[0m\n",
            "\u001b[0;31mValueError\u001b[0m: invalid literal for int() with base 10: '2,'"
          ]
        }
      ],
      "source": [
        "import hashlib\n",
        "import time\n",
        "import random\n",
        "\n",
        "def textual_authentication():\n",
        "    correct_password_hash = hashlib.sha256(\"deepak@123\".encode()).hexdigest()\n",
        "    password = input(\"Enter your textual password: \")\n",
        "    if hashlib.sha256(password.encode()).hexdigest() == correct_password_hash:\n",
        "        return True\n",
        "    return False\n",
        "\n",
        "def graphical_authentication():\n",
        "    images = [\"[Sun]\", \"[Moon]\", \"[Star]\", \"[Tree]\", \"[Cloud]\"]\n",
        "    correct_sequence = [2, 4, 1]\n",
        "    random.shuffle(images)\n",
        "\n",
        "    print(\"Select the images in the correct sequence:\")\n",
        "    for i, img in enumerate(images):\n",
        "        print(f\"{i+1}. {img}\")\n",
        "\n",
        "    user_sequence = list(map(int, input(\"Enter the sequence of numbers: \").split()))\n",
        "    return user_sequence == correct_sequence\n",
        "\n",
        "def behavioral_authentication():\n",
        "    print(\"Type the following phrase: 'Secure and Fast'\")\n",
        "    start_time = time.time()\n",
        "    input_text = input(\">>> \")\n",
        "    typing_speed = time.time() - start_time\n",
        "\n",
        "    if input_text == \"Secure and Fast\" and typing_speed < 5:\n",
        "        return True\n",
        "    return False\n",
        "\n",
        "def main():\n",
        "    print(\"Welcome to the Three-Level Password System\\n\")\n",
        "\n",
        "    if textual_authentication():\n",
        "        print(\"Textual authentication successful.\\n\")\n",
        "\n",
        "        if graphical_authentication():\n",
        "            print(\"Graphical authentication successful.\\n\")\n",
        "\n",
        "            if behavioral_authentication():\n",
        "                print(\"Behavioral authentication successful.\\n\")\n",
        "                print(\"Access Granted!\")\n",
        "            else:\n",
        "                print(\"Behavioral authentication failed.\")\n",
        "        else:\n",
        "            print(\"Graphical authentication failed.\")\n",
        "    else:\n",
        "        print(\"Textual authentication failed.\")\n",
        "\n",
        "if __name__ == \"__main__\":\n",
        "    main()\n"
      ]
    }
  ]
}